{
 "cells": [
  {
   "cell_type": "code",
   "execution_count": null,
   "metadata": {},
   "outputs": [],
   "source": [
    "# I chose not to attach requirements file (too many libs in my env).\n",
    "# As Torch is prone to issues with different versions, here are the ones I use:\n",
    "\n",
    "# pytorch-lightning==2.3.2\n",
    "# torch==2.0.0\n",
    "# torchmetrics==1.4.0.post0"
   ]
  },
  {
   "cell_type": "markdown",
   "metadata": {},
   "source": [
    "Load the data"
   ]
  },
  {
   "cell_type": "code",
   "execution_count": 167,
   "metadata": {},
   "outputs": [],
   "source": [
    "import pandas as pd\n",
    "import matplotlib.pyplot as plt\n",
    "import numpy as np"
   ]
  },
  {
   "cell_type": "code",
   "execution_count": 174,
   "metadata": {},
   "outputs": [],
   "source": [
    "train = pd.read_csv('data/Task5_train.csv')\n",
    "test = pd.read_csv('data/Task5_test.csv')\n",
    "X_train = train.iloc[:, 1:]\n",
    "X_test = test.iloc[:, 1:]\n",
    "y_train = train.Y\n",
    "y_test = test.Y"
   ]
  },
  {
   "cell_type": "markdown",
   "metadata": {},
   "source": [
    "Let's start our"
   ]
  },
  {
   "cell_type": "markdown",
   "metadata": {},
   "source": [
    "# EDA"
   ]
  },
  {
   "cell_type": "markdown",
   "metadata": {},
   "source": [
    "First glance at the data"
   ]
  },
  {
   "cell_type": "code",
   "execution_count": 3,
   "metadata": {},
   "outputs": [
    {
     "data": {
      "text/html": [
       "<div>\n",
       "<style scoped>\n",
       "    .dataframe tbody tr th:only-of-type {\n",
       "        vertical-align: middle;\n",
       "    }\n",
       "\n",
       "    .dataframe tbody tr th {\n",
       "        vertical-align: top;\n",
       "    }\n",
       "\n",
       "    .dataframe thead th {\n",
       "        text-align: right;\n",
       "    }\n",
       "</style>\n",
       "<table border=\"1\" class=\"dataframe\">\n",
       "  <thead>\n",
       "    <tr style=\"text-align: right;\">\n",
       "      <th></th>\n",
       "      <th>X1</th>\n",
       "      <th>X2</th>\n",
       "      <th>X3</th>\n",
       "      <th>X4</th>\n",
       "      <th>X5</th>\n",
       "      <th>X6</th>\n",
       "      <th>X7</th>\n",
       "      <th>X8</th>\n",
       "      <th>X9</th>\n",
       "      <th>X10</th>\n",
       "      <th>...</th>\n",
       "      <th>X111</th>\n",
       "      <th>X112</th>\n",
       "      <th>X113</th>\n",
       "      <th>X114</th>\n",
       "      <th>X115</th>\n",
       "      <th>X116</th>\n",
       "      <th>X117</th>\n",
       "      <th>X118</th>\n",
       "      <th>X119</th>\n",
       "      <th>X120</th>\n",
       "    </tr>\n",
       "  </thead>\n",
       "  <tbody>\n",
       "    <tr>\n",
       "      <th>0</th>\n",
       "      <td>-3.375223</td>\n",
       "      <td>-10.380706</td>\n",
       "      <td>14.488187</td>\n",
       "      <td>42.433324</td>\n",
       "      <td>3.567948</td>\n",
       "      <td>-0.407952</td>\n",
       "      <td>-0.778009</td>\n",
       "      <td>-6.806665</td>\n",
       "      <td>0.304032</td>\n",
       "      <td>-27.311202</td>\n",
       "      <td>...</td>\n",
       "      <td>17.842198</td>\n",
       "      <td>-4.235979</td>\n",
       "      <td>-3.090988</td>\n",
       "      <td>-16.809032</td>\n",
       "      <td>-17.604523</td>\n",
       "      <td>-12.415682</td>\n",
       "      <td>-11.636028</td>\n",
       "      <td>-0.784215</td>\n",
       "      <td>-18.296195</td>\n",
       "      <td>15.515276</td>\n",
       "    </tr>\n",
       "    <tr>\n",
       "      <th>1</th>\n",
       "      <td>-3.071530</td>\n",
       "      <td>-22.425550</td>\n",
       "      <td>4.060582</td>\n",
       "      <td>19.652617</td>\n",
       "      <td>-7.134599</td>\n",
       "      <td>-7.201065</td>\n",
       "      <td>-0.175808</td>\n",
       "      <td>33.717211</td>\n",
       "      <td>-2.658686</td>\n",
       "      <td>3.295941</td>\n",
       "      <td>...</td>\n",
       "      <td>10.305863</td>\n",
       "      <td>-0.077751</td>\n",
       "      <td>-16.040180</td>\n",
       "      <td>-2.143216</td>\n",
       "      <td>4.328842</td>\n",
       "      <td>33.620275</td>\n",
       "      <td>10.241176</td>\n",
       "      <td>-13.356787</td>\n",
       "      <td>-46.001087</td>\n",
       "      <td>22.231516</td>\n",
       "    </tr>\n",
       "    <tr>\n",
       "      <th>2</th>\n",
       "      <td>2.512906</td>\n",
       "      <td>11.003405</td>\n",
       "      <td>13.591295</td>\n",
       "      <td>-6.510962</td>\n",
       "      <td>-1.534895</td>\n",
       "      <td>-3.742965</td>\n",
       "      <td>0.455756</td>\n",
       "      <td>30.643341</td>\n",
       "      <td>-0.766931</td>\n",
       "      <td>0.431625</td>\n",
       "      <td>...</td>\n",
       "      <td>2.116266</td>\n",
       "      <td>-6.212255</td>\n",
       "      <td>-30.838870</td>\n",
       "      <td>2.446050</td>\n",
       "      <td>-11.532322</td>\n",
       "      <td>34.203352</td>\n",
       "      <td>-6.748755</td>\n",
       "      <td>-4.030347</td>\n",
       "      <td>-0.224291</td>\n",
       "      <td>-9.694489</td>\n",
       "    </tr>\n",
       "    <tr>\n",
       "      <th>3</th>\n",
       "      <td>0.485973</td>\n",
       "      <td>-15.891477</td>\n",
       "      <td>34.422507</td>\n",
       "      <td>-3.772496</td>\n",
       "      <td>-3.618411</td>\n",
       "      <td>3.278072</td>\n",
       "      <td>-0.229292</td>\n",
       "      <td>-11.056757</td>\n",
       "      <td>40.921275</td>\n",
       "      <td>-24.529393</td>\n",
       "      <td>...</td>\n",
       "      <td>13.309494</td>\n",
       "      <td>-6.547626</td>\n",
       "      <td>-26.224855</td>\n",
       "      <td>9.565147</td>\n",
       "      <td>-1.454725</td>\n",
       "      <td>-14.300701</td>\n",
       "      <td>-36.518918</td>\n",
       "      <td>-3.287786</td>\n",
       "      <td>17.748986</td>\n",
       "      <td>6.813862</td>\n",
       "    </tr>\n",
       "    <tr>\n",
       "      <th>4</th>\n",
       "      <td>-8.140371</td>\n",
       "      <td>6.173805</td>\n",
       "      <td>6.635861</td>\n",
       "      <td>4.463215</td>\n",
       "      <td>-0.964935</td>\n",
       "      <td>5.543937</td>\n",
       "      <td>0.862716</td>\n",
       "      <td>-11.539494</td>\n",
       "      <td>21.111441</td>\n",
       "      <td>-49.672076</td>\n",
       "      <td>...</td>\n",
       "      <td>12.194029</td>\n",
       "      <td>-4.621176</td>\n",
       "      <td>-11.836028</td>\n",
       "      <td>-17.734702</td>\n",
       "      <td>-8.545210</td>\n",
       "      <td>-17.500975</td>\n",
       "      <td>-59.559999</td>\n",
       "      <td>4.269054</td>\n",
       "      <td>-6.706806</td>\n",
       "      <td>22.321941</td>\n",
       "    </tr>\n",
       "  </tbody>\n",
       "</table>\n",
       "<p>5 rows × 120 columns</p>\n",
       "</div>"
      ],
      "text/plain": [
       "         X1         X2         X3         X4        X5        X6        X7  \\\n",
       "0 -3.375223 -10.380706  14.488187  42.433324  3.567948 -0.407952 -0.778009   \n",
       "1 -3.071530 -22.425550   4.060582  19.652617 -7.134599 -7.201065 -0.175808   \n",
       "2  2.512906  11.003405  13.591295  -6.510962 -1.534895 -3.742965  0.455756   \n",
       "3  0.485973 -15.891477  34.422507  -3.772496 -3.618411  3.278072 -0.229292   \n",
       "4 -8.140371   6.173805   6.635861   4.463215 -0.964935  5.543937  0.862716   \n",
       "\n",
       "          X8         X9        X10  ...       X111      X112       X113  \\\n",
       "0  -6.806665   0.304032 -27.311202  ...  17.842198 -4.235979  -3.090988   \n",
       "1  33.717211  -2.658686   3.295941  ...  10.305863 -0.077751 -16.040180   \n",
       "2  30.643341  -0.766931   0.431625  ...   2.116266 -6.212255 -30.838870   \n",
       "3 -11.056757  40.921275 -24.529393  ...  13.309494 -6.547626 -26.224855   \n",
       "4 -11.539494  21.111441 -49.672076  ...  12.194029 -4.621176 -11.836028   \n",
       "\n",
       "        X114       X115       X116       X117       X118       X119       X120  \n",
       "0 -16.809032 -17.604523 -12.415682 -11.636028  -0.784215 -18.296195  15.515276  \n",
       "1  -2.143216   4.328842  33.620275  10.241176 -13.356787 -46.001087  22.231516  \n",
       "2   2.446050 -11.532322  34.203352  -6.748755  -4.030347  -0.224291  -9.694489  \n",
       "3   9.565147  -1.454725 -14.300701 -36.518918  -3.287786  17.748986   6.813862  \n",
       "4 -17.734702  -8.545210 -17.500975 -59.559999   4.269054  -6.706806  22.321941  \n",
       "\n",
       "[5 rows x 120 columns]"
      ]
     },
     "execution_count": 3,
     "metadata": {},
     "output_type": "execute_result"
    }
   ],
   "source": [
    "X_train.head()"
   ]
  },
  {
   "cell_type": "markdown",
   "metadata": {},
   "source": [
    "Nice to see no NaNs"
   ]
  },
  {
   "cell_type": "code",
   "execution_count": 4,
   "metadata": {},
   "outputs": [
    {
     "data": {
      "text/plain": [
       "0"
      ]
     },
     "execution_count": 4,
     "metadata": {},
     "output_type": "execute_result"
    }
   ],
   "source": [
    "train.isna().sum().sum()"
   ]
  },
  {
   "cell_type": "markdown",
   "metadata": {},
   "source": [
    "Check some statistics. Notice that features have different scales (min, max)."
   ]
  },
  {
   "cell_type": "code",
   "execution_count": 5,
   "metadata": {},
   "outputs": [
    {
     "data": {
      "text/html": [
       "<div>\n",
       "<style scoped>\n",
       "    .dataframe tbody tr th:only-of-type {\n",
       "        vertical-align: middle;\n",
       "    }\n",
       "\n",
       "    .dataframe tbody tr th {\n",
       "        vertical-align: top;\n",
       "    }\n",
       "\n",
       "    .dataframe thead th {\n",
       "        text-align: right;\n",
       "    }\n",
       "</style>\n",
       "<table border=\"1\" class=\"dataframe\">\n",
       "  <thead>\n",
       "    <tr style=\"text-align: right;\">\n",
       "      <th></th>\n",
       "      <th>X1</th>\n",
       "      <th>X2</th>\n",
       "      <th>X3</th>\n",
       "      <th>X4</th>\n",
       "      <th>X5</th>\n",
       "      <th>X6</th>\n",
       "      <th>X7</th>\n",
       "      <th>X8</th>\n",
       "      <th>X9</th>\n",
       "      <th>X10</th>\n",
       "      <th>...</th>\n",
       "      <th>X111</th>\n",
       "      <th>X112</th>\n",
       "      <th>X113</th>\n",
       "      <th>X114</th>\n",
       "      <th>X115</th>\n",
       "      <th>X116</th>\n",
       "      <th>X117</th>\n",
       "      <th>X118</th>\n",
       "      <th>X119</th>\n",
       "      <th>X120</th>\n",
       "    </tr>\n",
       "  </thead>\n",
       "  <tbody>\n",
       "    <tr>\n",
       "      <th>count</th>\n",
       "      <td>2375.000000</td>\n",
       "      <td>2375.000000</td>\n",
       "      <td>2375.000000</td>\n",
       "      <td>2375.000000</td>\n",
       "      <td>2375.000000</td>\n",
       "      <td>2375.000000</td>\n",
       "      <td>2375.000000</td>\n",
       "      <td>2375.000000</td>\n",
       "      <td>2375.000000</td>\n",
       "      <td>2375.000000</td>\n",
       "      <td>...</td>\n",
       "      <td>2375.000000</td>\n",
       "      <td>2375.000000</td>\n",
       "      <td>2375.000000</td>\n",
       "      <td>2375.000000</td>\n",
       "      <td>2375.000000</td>\n",
       "      <td>2375.000000</td>\n",
       "      <td>2375.000000</td>\n",
       "      <td>2375.000000</td>\n",
       "      <td>2375.000000</td>\n",
       "      <td>2375.000000</td>\n",
       "    </tr>\n",
       "    <tr>\n",
       "      <th>mean</th>\n",
       "      <td>0.065044</td>\n",
       "      <td>-0.320009</td>\n",
       "      <td>-0.214810</td>\n",
       "      <td>0.165348</td>\n",
       "      <td>-0.028066</td>\n",
       "      <td>-0.078992</td>\n",
       "      <td>0.019217</td>\n",
       "      <td>-0.796630</td>\n",
       "      <td>-0.397053</td>\n",
       "      <td>-0.364354</td>\n",
       "      <td>...</td>\n",
       "      <td>-0.028033</td>\n",
       "      <td>-0.171237</td>\n",
       "      <td>-0.940235</td>\n",
       "      <td>0.005883</td>\n",
       "      <td>0.481750</td>\n",
       "      <td>-0.064731</td>\n",
       "      <td>0.708477</td>\n",
       "      <td>-0.077937</td>\n",
       "      <td>0.449402</td>\n",
       "      <td>0.150741</td>\n",
       "    </tr>\n",
       "    <tr>\n",
       "      <th>std</th>\n",
       "      <td>9.212750</td>\n",
       "      <td>31.618318</td>\n",
       "      <td>21.218423</td>\n",
       "      <td>17.981792</td>\n",
       "      <td>4.417210</td>\n",
       "      <td>4.831726</td>\n",
       "      <td>1.767082</td>\n",
       "      <td>24.541710</td>\n",
       "      <td>17.272902</td>\n",
       "      <td>25.869206</td>\n",
       "      <td>...</td>\n",
       "      <td>12.253998</td>\n",
       "      <td>5.530775</td>\n",
       "      <td>32.701291</td>\n",
       "      <td>20.317802</td>\n",
       "      <td>16.557594</td>\n",
       "      <td>25.687906</td>\n",
       "      <td>22.582052</td>\n",
       "      <td>6.692452</td>\n",
       "      <td>28.679562</td>\n",
       "      <td>16.285427</td>\n",
       "    </tr>\n",
       "    <tr>\n",
       "      <th>min</th>\n",
       "      <td>-32.750508</td>\n",
       "      <td>-112.821002</td>\n",
       "      <td>-76.372344</td>\n",
       "      <td>-59.385102</td>\n",
       "      <td>-17.243207</td>\n",
       "      <td>-14.605973</td>\n",
       "      <td>-6.264596</td>\n",
       "      <td>-102.506609</td>\n",
       "      <td>-65.857841</td>\n",
       "      <td>-83.671835</td>\n",
       "      <td>...</td>\n",
       "      <td>-39.575647</td>\n",
       "      <td>-17.966558</td>\n",
       "      <td>-105.212720</td>\n",
       "      <td>-63.699492</td>\n",
       "      <td>-54.934389</td>\n",
       "      <td>-81.598101</td>\n",
       "      <td>-86.506053</td>\n",
       "      <td>-22.870528</td>\n",
       "      <td>-104.778210</td>\n",
       "      <td>-58.422769</td>\n",
       "    </tr>\n",
       "    <tr>\n",
       "      <th>25%</th>\n",
       "      <td>-6.216707</td>\n",
       "      <td>-20.807051</td>\n",
       "      <td>-14.200681</td>\n",
       "      <td>-11.746565</td>\n",
       "      <td>-2.895480</td>\n",
       "      <td>-3.491570</td>\n",
       "      <td>-1.154605</td>\n",
       "      <td>-17.519233</td>\n",
       "      <td>-11.930161</td>\n",
       "      <td>-18.681122</td>\n",
       "      <td>...</td>\n",
       "      <td>-8.624711</td>\n",
       "      <td>-3.926481</td>\n",
       "      <td>-23.549552</td>\n",
       "      <td>-13.875948</td>\n",
       "      <td>-10.964813</td>\n",
       "      <td>-17.744928</td>\n",
       "      <td>-14.463117</td>\n",
       "      <td>-4.572325</td>\n",
       "      <td>-19.827259</td>\n",
       "      <td>-10.716968</td>\n",
       "    </tr>\n",
       "    <tr>\n",
       "      <th>50%</th>\n",
       "      <td>0.139897</td>\n",
       "      <td>-0.142107</td>\n",
       "      <td>-0.146990</td>\n",
       "      <td>-0.184580</td>\n",
       "      <td>-0.024183</td>\n",
       "      <td>-0.112723</td>\n",
       "      <td>-0.011159</td>\n",
       "      <td>-0.328636</td>\n",
       "      <td>0.182367</td>\n",
       "      <td>-0.518611</td>\n",
       "      <td>...</td>\n",
       "      <td>-0.229801</td>\n",
       "      <td>-0.164544</td>\n",
       "      <td>-1.264771</td>\n",
       "      <td>0.271284</td>\n",
       "      <td>0.397879</td>\n",
       "      <td>0.369784</td>\n",
       "      <td>0.975176</td>\n",
       "      <td>-0.166572</td>\n",
       "      <td>-0.028327</td>\n",
       "      <td>0.419216</td>\n",
       "    </tr>\n",
       "    <tr>\n",
       "      <th>75%</th>\n",
       "      <td>6.343253</td>\n",
       "      <td>21.808864</td>\n",
       "      <td>14.483109</td>\n",
       "      <td>12.838584</td>\n",
       "      <td>2.954960</td>\n",
       "      <td>3.288138</td>\n",
       "      <td>1.197403</td>\n",
       "      <td>15.689758</td>\n",
       "      <td>10.861546</td>\n",
       "      <td>16.655059</td>\n",
       "      <td>...</td>\n",
       "      <td>8.561840</td>\n",
       "      <td>3.642284</td>\n",
       "      <td>20.901101</td>\n",
       "      <td>13.650989</td>\n",
       "      <td>12.093973</td>\n",
       "      <td>17.894726</td>\n",
       "      <td>15.880992</td>\n",
       "      <td>4.480097</td>\n",
       "      <td>19.208877</td>\n",
       "      <td>10.951560</td>\n",
       "    </tr>\n",
       "    <tr>\n",
       "      <th>max</th>\n",
       "      <td>30.678800</td>\n",
       "      <td>105.193338</td>\n",
       "      <td>67.394506</td>\n",
       "      <td>59.695998</td>\n",
       "      <td>15.866140</td>\n",
       "      <td>14.719497</td>\n",
       "      <td>5.697377</td>\n",
       "      <td>78.192440</td>\n",
       "      <td>68.950906</td>\n",
       "      <td>102.791888</td>\n",
       "      <td>...</td>\n",
       "      <td>49.066097</td>\n",
       "      <td>18.323139</td>\n",
       "      <td>113.474413</td>\n",
       "      <td>70.906775</td>\n",
       "      <td>50.572982</td>\n",
       "      <td>80.334316</td>\n",
       "      <td>81.681457</td>\n",
       "      <td>25.831268</td>\n",
       "      <td>114.691985</td>\n",
       "      <td>53.942028</td>\n",
       "    </tr>\n",
       "  </tbody>\n",
       "</table>\n",
       "<p>8 rows × 120 columns</p>\n",
       "</div>"
      ],
      "text/plain": [
       "                X1           X2           X3           X4           X5  \\\n",
       "count  2375.000000  2375.000000  2375.000000  2375.000000  2375.000000   \n",
       "mean      0.065044    -0.320009    -0.214810     0.165348    -0.028066   \n",
       "std       9.212750    31.618318    21.218423    17.981792     4.417210   \n",
       "min     -32.750508  -112.821002   -76.372344   -59.385102   -17.243207   \n",
       "25%      -6.216707   -20.807051   -14.200681   -11.746565    -2.895480   \n",
       "50%       0.139897    -0.142107    -0.146990    -0.184580    -0.024183   \n",
       "75%       6.343253    21.808864    14.483109    12.838584     2.954960   \n",
       "max      30.678800   105.193338    67.394506    59.695998    15.866140   \n",
       "\n",
       "                X6           X7           X8           X9          X10  ...  \\\n",
       "count  2375.000000  2375.000000  2375.000000  2375.000000  2375.000000  ...   \n",
       "mean     -0.078992     0.019217    -0.796630    -0.397053    -0.364354  ...   \n",
       "std       4.831726     1.767082    24.541710    17.272902    25.869206  ...   \n",
       "min     -14.605973    -6.264596  -102.506609   -65.857841   -83.671835  ...   \n",
       "25%      -3.491570    -1.154605   -17.519233   -11.930161   -18.681122  ...   \n",
       "50%      -0.112723    -0.011159    -0.328636     0.182367    -0.518611  ...   \n",
       "75%       3.288138     1.197403    15.689758    10.861546    16.655059  ...   \n",
       "max      14.719497     5.697377    78.192440    68.950906   102.791888  ...   \n",
       "\n",
       "              X111         X112         X113         X114         X115  \\\n",
       "count  2375.000000  2375.000000  2375.000000  2375.000000  2375.000000   \n",
       "mean     -0.028033    -0.171237    -0.940235     0.005883     0.481750   \n",
       "std      12.253998     5.530775    32.701291    20.317802    16.557594   \n",
       "min     -39.575647   -17.966558  -105.212720   -63.699492   -54.934389   \n",
       "25%      -8.624711    -3.926481   -23.549552   -13.875948   -10.964813   \n",
       "50%      -0.229801    -0.164544    -1.264771     0.271284     0.397879   \n",
       "75%       8.561840     3.642284    20.901101    13.650989    12.093973   \n",
       "max      49.066097    18.323139   113.474413    70.906775    50.572982   \n",
       "\n",
       "              X116         X117         X118         X119         X120  \n",
       "count  2375.000000  2375.000000  2375.000000  2375.000000  2375.000000  \n",
       "mean     -0.064731     0.708477    -0.077937     0.449402     0.150741  \n",
       "std      25.687906    22.582052     6.692452    28.679562    16.285427  \n",
       "min     -81.598101   -86.506053   -22.870528  -104.778210   -58.422769  \n",
       "25%     -17.744928   -14.463117    -4.572325   -19.827259   -10.716968  \n",
       "50%       0.369784     0.975176    -0.166572    -0.028327     0.419216  \n",
       "75%      17.894726    15.880992     4.480097    19.208877    10.951560  \n",
       "max      80.334316    81.681457    25.831268   114.691985    53.942028  \n",
       "\n",
       "[8 rows x 120 columns]"
      ]
     },
     "execution_count": 5,
     "metadata": {},
     "output_type": "execute_result"
    }
   ],
   "source": [
    "X_train.describe()"
   ]
  },
  {
   "cell_type": "markdown",
   "metadata": {},
   "source": [
    "Let's see how some random feature is distributed:"
   ]
  },
  {
   "cell_type": "code",
   "execution_count": 6,
   "metadata": {},
   "outputs": [
    {
     "data": {
      "text/plain": [
       "<Axes: >"
      ]
     },
     "execution_count": 6,
     "metadata": {},
     "output_type": "execute_result"
    },
    {
     "data": {
      "image/png": "[encoded data removed]",
      "text/plain": [
       "<Figure size 640x480 with 1 Axes>"
      ]
     },
     "metadata": {},
     "output_type": "display_data"
    }
   ],
   "source": [
    "X_train.X3.hist(bins=100)"
   ]
  },
  {
   "cell_type": "markdown",
   "metadata": {},
   "source": [
    "Looks much like normal distribution...🤔\n",
    "\n",
    "Maybe all of them are normally distributed? This will be helpful when detecting outliers and choosing scaler"
   ]
  },
  {
   "cell_type": "markdown",
   "metadata": {},
   "source": [
    "Let's rely on Shapiro-Wilk test"
   ]
  },
  {
   "cell_type": "code",
   "execution_count": 7,
   "metadata": {},
   "outputs": [],
   "source": [
    "from scipy.stats import shapiro"
   ]
  },
  {
   "cell_type": "code",
   "execution_count": 8,
   "metadata": {},
   "outputs": [
    {
     "name": "stdout",
     "output_type": "stream",
     "text": [
      "Not normally distributed features: \n"
     ]
    },
    {
     "data": {
      "text/html": [
       "<div>\n",
       "<style scoped>\n",
       "    .dataframe tbody tr th:only-of-type {\n",
       "        vertical-align: middle;\n",
       "    }\n",
       "\n",
       "    .dataframe tbody tr th {\n",
       "        vertical-align: top;\n",
       "    }\n",
       "\n",
       "    .dataframe thead th {\n",
       "        text-align: right;\n",
       "    }\n",
       "</style>\n",
       "<table border=\"1\" class=\"dataframe\">\n",
       "  <thead>\n",
       "    <tr style=\"text-align: right;\">\n",
       "      <th></th>\n",
       "      <th>X42</th>\n",
       "      <th>X57</th>\n",
       "    </tr>\n",
       "  </thead>\n",
       "  <tbody>\n",
       "    <tr>\n",
       "      <th>0</th>\n",
       "      <td>-4.854999</td>\n",
       "      <td>0.458916</td>\n",
       "    </tr>\n",
       "    <tr>\n",
       "      <th>1</th>\n",
       "      <td>-13.982503</td>\n",
       "      <td>2.151459</td>\n",
       "    </tr>\n",
       "    <tr>\n",
       "      <th>2</th>\n",
       "      <td>-18.602669</td>\n",
       "      <td>-0.666477</td>\n",
       "    </tr>\n",
       "    <tr>\n",
       "      <th>3</th>\n",
       "      <td>-35.161610</td>\n",
       "      <td>-5.373842</td>\n",
       "    </tr>\n",
       "    <tr>\n",
       "      <th>4</th>\n",
       "      <td>-27.373220</td>\n",
       "      <td>-2.293388</td>\n",
       "    </tr>\n",
       "    <tr>\n",
       "      <th>...</th>\n",
       "      <td>...</td>\n",
       "      <td>...</td>\n",
       "    </tr>\n",
       "    <tr>\n",
       "      <th>2370</th>\n",
       "      <td>25.161364</td>\n",
       "      <td>-2.238848</td>\n",
       "    </tr>\n",
       "    <tr>\n",
       "      <th>2371</th>\n",
       "      <td>7.911103</td>\n",
       "      <td>4.220831</td>\n",
       "    </tr>\n",
       "    <tr>\n",
       "      <th>2372</th>\n",
       "      <td>29.379239</td>\n",
       "      <td>2.206497</td>\n",
       "    </tr>\n",
       "    <tr>\n",
       "      <th>2373</th>\n",
       "      <td>9.825710</td>\n",
       "      <td>2.078136</td>\n",
       "    </tr>\n",
       "    <tr>\n",
       "      <th>2374</th>\n",
       "      <td>10.299480</td>\n",
       "      <td>2.080134</td>\n",
       "    </tr>\n",
       "  </tbody>\n",
       "</table>\n",
       "<p>2375 rows × 2 columns</p>\n",
       "</div>"
      ],
      "text/plain": [
       "            X42       X57\n",
       "0     -4.854999  0.458916\n",
       "1    -13.982503  2.151459\n",
       "2    -18.602669 -0.666477\n",
       "3    -35.161610 -5.373842\n",
       "4    -27.373220 -2.293388\n",
       "...         ...       ...\n",
       "2370  25.161364 -2.238848\n",
       "2371   7.911103  4.220831\n",
       "2372  29.379239  2.206497\n",
       "2373   9.825710  2.078136\n",
       "2374  10.299480  2.080134\n",
       "\n",
       "[2375 rows x 2 columns]"
      ]
     },
     "execution_count": 8,
     "metadata": {},
     "output_type": "execute_result"
    }
   ],
   "source": [
    "shapiro_p_values = shapiro(X_train.to_numpy(), axis=0).pvalue\n",
    "np.array(range(1, 121))[shapiro_p_values < 0.05]\n",
    "print('Not normally distributed features: ')\n",
    "X_train.iloc[:, np.array(range(1, 121))[shapiro_p_values < 0.05] - 1]"
   ]
  },
  {
   "cell_type": "markdown",
   "metadata": {},
   "source": [
    "Let's look at their distribution:"
   ]
  },
  {
   "cell_type": "code",
   "execution_count": 9,
   "metadata": {},
   "outputs": [
    {
     "data": {
      "image/png": "[encoded data removed]",
      "text/plain": [
       "<Figure size 640x480 with 1 Axes>"
      ]
     },
     "metadata": {},
     "output_type": "display_data"
    },
    {
     "data": {
      "image/png": "[encoded data removed]",
      "text/plain": [
       "<Figure size 640x480 with 1 Axes>"
      ]
     },
     "metadata": {},
     "output_type": "display_data"
    }
   ],
   "source": [
    "for col in ['X42', 'X57']:\n",
    "    plt.figure()  \n",
    "    plt.hist(X_train[col], bins=100)\n",
    "    plt.title(f'{col}')\n",
    "    plt.xlabel(col)\n",
    "    plt.ylabel('Frequency')"
   ]
  },
  {
   "cell_type": "markdown",
   "metadata": {},
   "source": [
    "These features are actually not that far from normal distribution, as we can see. We will also check test data, just in case"
   ]
  },
  {
   "cell_type": "code",
   "execution_count": 10,
   "metadata": {},
   "outputs": [
    {
     "name": "stdout",
     "output_type": "stream",
     "text": [
      "Not normally distributed features: \n"
     ]
    },
    {
     "data": {
      "text/html": [
       "<div>\n",
       "<style scoped>\n",
       "    .dataframe tbody tr th:only-of-type {\n",
       "        vertical-align: middle;\n",
       "    }\n",
       "\n",
       "    .dataframe tbody tr th {\n",
       "        vertical-align: top;\n",
       "    }\n",
       "\n",
       "    .dataframe thead th {\n",
       "        text-align: right;\n",
       "    }\n",
       "</style>\n",
       "<table border=\"1\" class=\"dataframe\">\n",
       "  <thead>\n",
       "    <tr style=\"text-align: right;\">\n",
       "      <th></th>\n",
       "      <th>X22</th>\n",
       "      <th>X35</th>\n",
       "      <th>X47</th>\n",
       "      <th>X54</th>\n",
       "      <th>X101</th>\n",
       "      <th>X103</th>\n",
       "      <th>X110</th>\n",
       "    </tr>\n",
       "  </thead>\n",
       "  <tbody>\n",
       "    <tr>\n",
       "      <th>0</th>\n",
       "      <td>9.186542</td>\n",
       "      <td>-14.039194</td>\n",
       "      <td>-7.018801</td>\n",
       "      <td>20.391202</td>\n",
       "      <td>0.004473</td>\n",
       "      <td>4.588566</td>\n",
       "      <td>-3.356380</td>\n",
       "    </tr>\n",
       "    <tr>\n",
       "      <th>1</th>\n",
       "      <td>0.659404</td>\n",
       "      <td>58.762926</td>\n",
       "      <td>-2.715903</td>\n",
       "      <td>-27.916658</td>\n",
       "      <td>0.649862</td>\n",
       "      <td>-18.352445</td>\n",
       "      <td>6.121010</td>\n",
       "    </tr>\n",
       "    <tr>\n",
       "      <th>2</th>\n",
       "      <td>5.652510</td>\n",
       "      <td>6.582498</td>\n",
       "      <td>0.384491</td>\n",
       "      <td>56.665657</td>\n",
       "      <td>1.762384</td>\n",
       "      <td>-20.074534</td>\n",
       "      <td>4.693267</td>\n",
       "    </tr>\n",
       "    <tr>\n",
       "      <th>3</th>\n",
       "      <td>0.597592</td>\n",
       "      <td>12.179153</td>\n",
       "      <td>-2.172476</td>\n",
       "      <td>-58.202845</td>\n",
       "      <td>-1.544219</td>\n",
       "      <td>7.069699</td>\n",
       "      <td>-4.399487</td>\n",
       "    </tr>\n",
       "    <tr>\n",
       "      <th>4</th>\n",
       "      <td>-5.040151</td>\n",
       "      <td>-49.760326</td>\n",
       "      <td>-3.450827</td>\n",
       "      <td>12.632065</td>\n",
       "      <td>-1.176006</td>\n",
       "      <td>7.498262</td>\n",
       "      <td>-1.596217</td>\n",
       "    </tr>\n",
       "    <tr>\n",
       "      <th>...</th>\n",
       "      <td>...</td>\n",
       "      <td>...</td>\n",
       "      <td>...</td>\n",
       "      <td>...</td>\n",
       "      <td>...</td>\n",
       "      <td>...</td>\n",
       "      <td>...</td>\n",
       "    </tr>\n",
       "    <tr>\n",
       "      <th>520</th>\n",
       "      <td>-1.413920</td>\n",
       "      <td>-21.126212</td>\n",
       "      <td>6.441831</td>\n",
       "      <td>-8.343242</td>\n",
       "      <td>1.030827</td>\n",
       "      <td>-2.557943</td>\n",
       "      <td>1.358352</td>\n",
       "    </tr>\n",
       "    <tr>\n",
       "      <th>521</th>\n",
       "      <td>-2.548709</td>\n",
       "      <td>8.400174</td>\n",
       "      <td>-0.240080</td>\n",
       "      <td>-15.296100</td>\n",
       "      <td>-1.371371</td>\n",
       "      <td>9.834404</td>\n",
       "      <td>-0.106258</td>\n",
       "    </tr>\n",
       "    <tr>\n",
       "      <th>522</th>\n",
       "      <td>0.964726</td>\n",
       "      <td>-18.469909</td>\n",
       "      <td>3.087944</td>\n",
       "      <td>3.742186</td>\n",
       "      <td>-0.255414</td>\n",
       "      <td>5.061778</td>\n",
       "      <td>-2.372808</td>\n",
       "    </tr>\n",
       "    <tr>\n",
       "      <th>523</th>\n",
       "      <td>2.798954</td>\n",
       "      <td>23.176773</td>\n",
       "      <td>-0.338544</td>\n",
       "      <td>2.841688</td>\n",
       "      <td>-0.615315</td>\n",
       "      <td>17.074834</td>\n",
       "      <td>-2.875590</td>\n",
       "    </tr>\n",
       "    <tr>\n",
       "      <th>524</th>\n",
       "      <td>-0.635777</td>\n",
       "      <td>30.573071</td>\n",
       "      <td>-5.030059</td>\n",
       "      <td>-8.494453</td>\n",
       "      <td>-0.597940</td>\n",
       "      <td>-14.049991</td>\n",
       "      <td>5.376481</td>\n",
       "    </tr>\n",
       "  </tbody>\n",
       "</table>\n",
       "<p>525 rows × 7 columns</p>\n",
       "</div>"
      ],
      "text/plain": [
       "          X22        X35       X47        X54      X101       X103      X110\n",
       "0    9.186542 -14.039194 -7.018801  20.391202  0.004473   4.588566 -3.356380\n",
       "1    0.659404  58.762926 -2.715903 -27.916658  0.649862 -18.352445  6.121010\n",
       "2    5.652510   6.582498  0.384491  56.665657  1.762384 -20.074534  4.693267\n",
       "3    0.597592  12.179153 -2.172476 -58.202845 -1.544219   7.069699 -4.399487\n",
       "4   -5.040151 -49.760326 -3.450827  12.632065 -1.176006   7.498262 -1.596217\n",
       "..        ...        ...       ...        ...       ...        ...       ...\n",
       "520 -1.413920 -21.126212  6.441831  -8.343242  1.030827  -2.557943  1.358352\n",
       "521 -2.548709   8.400174 -0.240080 -15.296100 -1.371371   9.834404 -0.106258\n",
       "522  0.964726 -18.469909  3.087944   3.742186 -0.255414   5.061778 -2.372808\n",
       "523  2.798954  23.176773 -0.338544   2.841688 -0.615315  17.074834 -2.875590\n",
       "524 -0.635777  30.573071 -5.030059  -8.494453 -0.597940 -14.049991  5.376481\n",
       "\n",
       "[525 rows x 7 columns]"
      ]
     },
     "execution_count": 10,
     "metadata": {},
     "output_type": "execute_result"
    }
   ],
   "source": [
    "shapiro_p_values = shapiro(X_test.to_numpy(), axis=0).pvalue\n",
    "np.array(range(1, 121))[shapiro_p_values < 0.05]\n",
    "print('Not normally distributed features: ')\n",
    "X_test.iloc[:, np.array(range(1, 121))[shapiro_p_values < 0.05] - 1]"
   ]
  },
  {
   "cell_type": "code",
   "execution_count": 11,
   "metadata": {},
   "outputs": [
    {
     "data": {
      "image/png": "[encoded data removed]",
      "text/plain": [
       "<Figure size 640x480 with 1 Axes>"
      ]
     },
     "metadata": {},
     "output_type": "display_data"
    },
    {
     "data": {
      "image/png": "[encoded data removed]",
      "text/plain": [
       "<Figure size 640x480 with 1 Axes>"
      ]
     },
     "metadata": {},
     "output_type": "display_data"
    },
    {
     "data": {
      "image/png": "[encoded data removed]",
      "text/plain": [
       "<Figure size 640x480 with 1 Axes>"
      ]
     },
     "metadata": {},
     "output_type": "display_data"
    },
    {
     "data": {
      "image/png": "[encoded data removed]",
      "text/plain": [
       "<Figure size 640x480 with 1 Axes>"
      ]
     },
     "metadata": {},
     "output_type": "display_data"
    },
    {
     "data": {
      "image/png": "[encoded data removed]",
      "text/plain": [
       "<Figure size 640x480 with 1 Axes>"
      ]
     },
     "metadata": {},
     "output_type": "display_data"
    },
    {
     "data": {
      "image/png": "[encoded data removed]",
      "text/plain": [
       "<Figure size 640x480 with 1 Axes>"
      ]
     },
     "metadata": {},
     "output_type": "display_data"
    },
    {
     "data": {
      "image/png": "[encoded data removed]",
      "text/plain": [
       "<Figure size 640x480 with 1 Axes>"
      ]
     },
     "metadata": {},
     "output_type": "display_data"
    }
   ],
   "source": [
    "for col in X_test.iloc[:, np.array(range(1, 121))[shapiro_p_values < 0.05] - 1].columns:\n",
    "    plt.figure()  \n",
    "    plt.hist(X_test[col], bins=100)\n",
    "    plt.title(f'test {col}')\n",
    "    plt.xlabel(col)\n",
    "    plt.ylabel('frequency')"
   ]
  },
  {
   "cell_type": "markdown",
   "metadata": {},
   "source": [
    "Same for the test, not so much data is far from normality.\n",
    "Also, if we knew for sure that train and test data came from the exact same process, these test features must have been, in fact, normally distributed"
   ]
  },
  {
   "cell_type": "markdown",
   "metadata": {},
   "source": [
    "Okay, let's find outliers in data. Relying on normality, we can use z-scores"
   ]
  },
  {
   "cell_type": "code",
   "execution_count": 12,
   "metadata": {},
   "outputs": [],
   "source": [
    "from sklearn.preprocessing import StandardScaler"
   ]
  },
  {
   "cell_type": "code",
   "execution_count": 169,
   "metadata": {},
   "outputs": [],
   "source": [
    "scaler = StandardScaler()\n",
    "X_train_scaled = pd.DataFrame(scaler.fit_transform(X_train), columns=X_train.columns)\n",
    "X_test_scaled = pd.DataFrame(scaler.transform(X_test), columns = X_test.columns)"
   ]
  },
  {
   "cell_type": "code",
   "execution_count": 14,
   "metadata": {},
   "outputs": [
    {
     "data": {
      "text/plain": [
       "Text(0, 0.5, 'frequency')"
      ]
     },
     "execution_count": 14,
     "metadata": {},
     "output_type": "execute_result"
    },
    {
     "data": {
      "image/png": "[encoded data removed]",
      "text/plain": [
       "<Figure size 640x480 with 1 Axes>"
      ]
     },
     "metadata": {},
     "output_type": "display_data"
    }
   ],
   "source": [
    "(X_train_scaled.abs() > 3).sum().hist(bins=10)\n",
    "plt.title('Distribution of number of outliers in columns')\n",
    "plt.ylabel('frequency')"
   ]
  },
  {
   "cell_type": "markdown",
   "metadata": {},
   "source": [
    "We see up to 14 outliers in columns. As we do not know the nature of the data, there is no guarantee they come from error, so they can carry important information. We won't remove them in main dataset. Instead, let's create another dataset where we replace them by mean, and train a model later on both datasets for comparison."
   ]
  },
  {
   "cell_type": "markdown",
   "metadata": {},
   "source": [
    "Replace outliers for train:"
   ]
  },
  {
   "cell_type": "code",
   "execution_count": 15,
   "metadata": {},
   "outputs": [],
   "source": [
    "outliers_coordinates = (X_train_scaled.abs() > 3).stack()\n",
    "outliers_coordinates = outliers_coordinates[outliers_coordinates == True].keys()\n",
    "outliers_cols = [x[1] for x in outliers_coordinates]\n",
    "outliers_inds = [x[0] for x in outliers_coordinates]"
   ]
  },
  {
   "cell_type": "code",
   "execution_count": 16,
   "metadata": {},
   "outputs": [],
   "source": [
    "X_train_scaled_no_outliers = X_train_scaled.copy(deep=True)\n",
    "for coords in outliers_coordinates:\n",
    "    X_train_scaled_no_outliers.loc[coords[0], coords[1]] = X_train_scaled_no_outliers[coords[1]].mean()"
   ]
  },
  {
   "cell_type": "markdown",
   "metadata": {},
   "source": [
    "No outliers in new dataset:"
   ]
  },
  {
   "cell_type": "code",
   "execution_count": 18,
   "metadata": {},
   "outputs": [
    {
     "data": {
      "text/plain": [
       "0"
      ]
     },
     "execution_count": 18,
     "metadata": {},
     "output_type": "execute_result"
    }
   ],
   "source": [
    "(X_train_scaled_no_outliers.abs() > 3).sum().sum()"
   ]
  },
  {
   "cell_type": "markdown",
   "metadata": {},
   "source": [
    "Now, for the target:"
   ]
  },
  {
   "cell_type": "code",
   "execution_count": 19,
   "metadata": {},
   "outputs": [
    {
     "data": {
      "text/plain": [
       "Text(0, 0.5, 'frequency')"
      ]
     },
     "execution_count": 19,
     "metadata": {},
     "output_type": "execute_result"
    },
    {
     "data": {
      "image/png": "[encoded data removed]",
      "text/plain": [
       "<Figure size 640x480 with 1 Axes>"
      ]
     },
     "metadata": {},
     "output_type": "display_data"
    }
   ],
   "source": [
    "y_train.hist(bins=100)\n",
    "plt.xlim(0,20)\n",
    "plt.title(f'train Y')\n",
    "plt.ylabel('frequency')"
   ]
  },
  {
   "cell_type": "markdown",
   "metadata": {},
   "source": [
    "![SegmentLocal](img\\confused-math.gif \"segment\")"
   ]
  },
  {
   "cell_type": "markdown",
   "metadata": {},
   "source": [
    "Looks like exp "
   ]
  },
  {
   "cell_type": "markdown",
   "metadata": {},
   "source": [
    "We can logarithmize that"
   ]
  },
  {
   "cell_type": "code",
   "execution_count": 20,
   "metadata": {},
   "outputs": [
    {
     "data": {
      "text/plain": [
       "Text(0, 0.5, 'frequency')"
      ]
     },
     "execution_count": 20,
     "metadata": {},
     "output_type": "execute_result"
    },
    {
     "data": {
      "image/png": "[encoded data removed]",
      "text/plain": [
       "<Figure size 640x480 with 1 Axes>"
      ]
     },
     "metadata": {},
     "output_type": "display_data"
    }
   ],
   "source": [
    "y_train_log = np.log(y_train)\n",
    "y_test_log = np.log(y_test)\n",
    "y_train_log.hist(bins=100)\n",
    "plt.title(f'log train Y')\n",
    "plt.ylabel('frequency')"
   ]
  },
  {
   "cell_type": "markdown",
   "metadata": {},
   "source": [
    "Considering the simplicity of the data, it seems that linear models from classic ML will be a good choice. Therefore, we better check for collinearity in features because it can affect some linear models' performance"
   ]
  },
  {
   "cell_type": "markdown",
   "metadata": {},
   "source": [
    "(Lin reg after you feed it correlated features):\n",
    "\n",
    "'<img src=\"img/crying.jpg\" width=\"200\" height=\"120\">'"
   ]
  },
  {
   "cell_type": "code",
   "execution_count": 21,
   "metadata": {},
   "outputs": [],
   "source": [
    "pearson_corr = X_train_scaled.corr(method='pearson')\n",
    "threshold_R2 = 0.7\n",
    "correlated = pearson_corr.abs()**2 > threshold_R2\n",
    "true_indices = np.where(correlated.values == True)\n",
    "true_positions = [(correlated.index[i], correlated.columns[j]) for i, j in zip(*true_indices) if correlated.index[i] != correlated.columns[j]]"
   ]
  },
  {
   "cell_type": "markdown",
   "metadata": {},
   "source": [
    "Yay! No correlations found:"
   ]
  },
  {
   "cell_type": "code",
   "execution_count": 22,
   "metadata": {},
   "outputs": [
    {
     "data": {
      "text/plain": [
       "[]"
      ]
     },
     "execution_count": 22,
     "metadata": {},
     "output_type": "execute_result"
    }
   ],
   "source": [
    "true_positions"
   ]
  },
  {
   "cell_type": "markdown",
   "metadata": {},
   "source": [
    "We checked for the missing values, collinearity and even brought target value to the normal distribution. Let's get to the"
   ]
  },
  {
   "cell_type": "markdown",
   "metadata": {},
   "source": [
    "# ML part"
   ]
  },
  {
   "cell_type": "markdown",
   "metadata": {},
   "source": [
    "## SVR"
   ]
  },
  {
   "cell_type": "code",
   "execution_count": null,
   "metadata": {},
   "outputs": [
    {
     "name": "stdout",
     "output_type": "stream",
     "text": [
      "MSE and R2 on test: 3.801021236194246 0.5529828725402168\n",
      "\n",
      "MSE and R2 on test, logarithmized target: 2.07285386909759 0.7562230977863051\n",
      "\n",
      "MSE and R2 on test, logarithmized target and no outliers in data: 2.2648703296171835 0.7336411017192679\n",
      "\n"
     ]
    }
   ],
   "source": [
    "from sklearn.svm import SVR\n",
    "from sklearn.metrics import mean_squared_error, r2_score\n",
    "\n",
    "svr = SVR()\n",
    "svr.fit(X_train_scaled, y_train)\n",
    "y_pred = svr.predict(X_test_scaled)\n",
    "print('MSE and R2 on test:', mean_squared_error(y_test, y_pred), r2_score(y_test, y_pred))\n",
    "print()\n",
    "\n",
    "svr.fit(X_train_scaled, y_train_log)\n",
    "y_pred_log = svr.predict(X_test_scaled)\n",
    "y_pred = np.exp(y_pred_log)\n",
    "print('MSE and R2 on test, logarithmized target:', mean_squared_error(y_test, y_pred), r2_score(y_test, y_pred))\n",
    "print()\n",
    "\n",
    "svr.fit(X_train_scaled_no_outliers, y_train_log)\n",
    "y_pred_log = svr.predict(X_test_scaled)\n",
    "y_pred = np.exp(y_pred_log)\n",
    "print('MSE and R2 on test, logarithmized target and no outliers in data:', mean_squared_error(y_test, y_pred), r2_score(y_test, y_pred))\n",
    "print()"
   ]
  },
  {
   "cell_type": "markdown",
   "metadata": {},
   "source": [
    "For dataset with outliers metrics are better. Also, default was rbf kernel, we should check linear one:"
   ]
  },
  {
   "cell_type": "code",
   "execution_count": 171,
   "metadata": {},
   "outputs": [
    {
     "name": "stdout",
     "output_type": "stream",
     "text": [
      "MSE and R2 on test, logarithmized target: 0.10638280045545129 0.9874889060292814\n",
      "\n"
     ]
    }
   ],
   "source": [
    "svr = SVR(kernel='linear')\n",
    "svr.fit(X_train_scaled, y_train_log)\n",
    "y_pred_log = svr.predict(X_test_scaled)\n",
    "y_pred = np.exp(y_pred_log)\n",
    "print('MSE and R2 on test, logarithmized target:', mean_squared_error(y_test, y_pred), r2_score(y_test, y_pred))\n",
    "print()"
   ]
  },
  {
   "cell_type": "markdown",
   "metadata": {},
   "source": [
    "Great! It worked. We achieved R2 0.9875. Maybe other linear models will perform even better?"
   ]
  },
  {
   "cell_type": "markdown",
   "metadata": {},
   "source": [
    "## Linear Regression"
   ]
  },
  {
   "cell_type": "code",
   "execution_count": 25,
   "metadata": {},
   "outputs": [],
   "source": [
    "from sklearn.linear_model import LinearRegression"
   ]
  },
  {
   "cell_type": "code",
   "execution_count": 26,
   "metadata": {},
   "outputs": [
    {
     "name": "stdout",
     "output_type": "stream",
     "text": [
      "MSE and R2 on test, logarithmized target: 0.110528691250168 0.9870013306965869\n",
      "\n"
     ]
    }
   ],
   "source": [
    "logreg = LinearRegression()\n",
    "logreg.fit(X_train_scaled, y_train_log)\n",
    "y_pred_log = logreg.predict(X_test_scaled)\n",
    "y_pred = np.exp(y_pred_log)\n",
    "print('MSE and R2 on test, logarithmized target:', mean_squared_error(y_test, y_pred), r2_score(y_test, y_pred))\n",
    "print()"
   ]
  },
  {
   "cell_type": "markdown",
   "metadata": {},
   "source": [
    "## Ridge"
   ]
  },
  {
   "cell_type": "code",
   "execution_count": 27,
   "metadata": {},
   "outputs": [],
   "source": [
    "from sklearn.linear_model import Ridge"
   ]
  },
  {
   "cell_type": "code",
   "execution_count": 28,
   "metadata": {},
   "outputs": [
    {
     "name": "stdout",
     "output_type": "stream",
     "text": [
      "MSE and R2 on test, logarithmized target: 0.11050240340285215 0.9870044222652112\n",
      "\n"
     ]
    }
   ],
   "source": [
    "ridge = Ridge()\n",
    "ridge.fit(X_train_scaled, y_train_log)\n",
    "y_pred_log = ridge.predict(X_test_scaled)\n",
    "y_pred = np.exp(y_pred_log)\n",
    "print('MSE and R2 on test, logarithmized target:', mean_squared_error(y_test, y_pred), r2_score(y_test, y_pred))\n",
    "print()"
   ]
  },
  {
   "cell_type": "markdown",
   "metadata": {},
   "source": [
    "SVR showed the best results with MSE 0.1064 and R<sup>2</sup> 0.9875.\n",
    "You can use a saved model to check:"
   ]
  },
  {
   "cell_type": "code",
   "execution_count": null,
   "metadata": {},
   "outputs": [],
   "source": [
    "import pickle\n",
    "\n",
    "# with open('models/svr.pkl', 'wb') as f:\n",
    "#     pickle.dump(svr, f)\n",
    "\n",
    "# loading and checking: \n",
    "with open('models/svr.pkl', 'rb') as f:\n",
    "    svr = pickle.load(f)\n",
    "y_pred_log = svr.predict(X_test_scaled)\n",
    "y_pred = np.exp(y_pred_log)\n",
    "print('MSE and R2 on test, logarithmized target', mean_squared_error(y_test, y_pred), r2_score(y_test, y_pred))\n",
    "print()"
   ]
  },
  {
   "cell_type": "markdown",
   "metadata": {},
   "source": [
    "No need to try decision trees"
   ]
  },
  {
   "cell_type": "markdown",
   "metadata": {},
   "source": [
    "# DL part"
   ]
  },
  {
   "cell_type": "markdown",
   "metadata": {},
   "source": [
    "I will use the simplest model here because of simple data patterns. Using more complicated models will lead to unnecessary abundance of parameters and overfitting. So, let's try two-layer dense neural network "
   ]
  },
  {
   "cell_type": "code",
   "execution_count": 139,
   "metadata": {},
   "outputs": [],
   "source": [
    "import torch\n",
    "import torch.nn as nn\n",
    "import torch.nn.functional as F\n",
    "from torch.utils.data import Dataset, DataLoader\n",
    "from tqdm import tqdm\n",
    "import pytorch_lightning as pl\n",
    "import warnings\n",
    "warnings.filterwarnings(\"ignore\")\n",
    "from torchmetrics import R2Score, MeanSquaredError\n",
    "from sklearn.model_selection import KFold"
   ]
  },
  {
   "cell_type": "markdown",
   "metadata": {},
   "source": [
    "I use Lightning to automate training.\n",
    "\n",
    "Let's set weight_decay for use in [AdamW](https://stackoverflow.com/questions/64621585/pytorch-optimizer-adamw-and-adam-with-weight-decay) optimizer as a changeable parameter (in case there is overfitting and changing learning rate doesn't help, we can quickly use it). "
   ]
  },
  {
   "cell_type": "code",
   "execution_count": 193,
   "metadata": {},
   "outputs": [],
   "source": [
    "class TwoLayerNN(pl.LightningModule):\n",
    "    def __init__(self, input_dim=120, output_dim=1, learning_rate=1e-3, weight_decay=0):\n",
    "        super().__init__()\n",
    "        self.save_hyperparameters() \n",
    "        self.fc1 = nn.Linear(in_features=input_dim, out_features=60)\n",
    "        self.fc2 = nn.Linear(in_features=60, out_features=output_dim)\n",
    "        self.learning_rate = learning_rate\n",
    "        self.weight_decay = weight_decay\n",
    "        self.mse = MeanSquaredError()\n",
    "        self.r2 = R2Score()\n",
    "\n",
    "    def forward(self, x):\n",
    "        x = F.relu(self.fc1(x))\n",
    "        x = self.fc2(x)\n",
    "        return x\n",
    "\n",
    "    def training_step(self, batch, batch_idx):\n",
    "        X, y = batch\n",
    "        predictions = self(X).squeeze()\n",
    "\n",
    "        mse_loss = self.mse(predictions, y)\n",
    "        r2_score = self.r2(predictions, y)\n",
    "        self.log('train_mse', mse_loss, prog_bar=True)\n",
    "        self.log('train_r2', r2_score, prog_bar=True)\n",
    "\n",
    "        return mse_loss\n",
    "\n",
    "    def validation_step(self, batch, batch_idx):\n",
    "        X, y = batch\n",
    "        predictions = self(X).squeeze()\n",
    "\n",
    "        mse_loss = self.mse(predictions, y)\n",
    "        r2_score = self.r2(predictions, y)\n",
    "        self.log('val_mse', mse_loss, prog_bar=True)\n",
    "        self.log('val_r2', r2_score, prog_bar=True)\n",
    "\n",
    "    def configure_optimizers(self):\n",
    "        return torch.optim.AdamW(self.parameters(), lr=self.learning_rate, weight_decay=self.weight_decay)"
   ]
  },
  {
   "cell_type": "code",
   "execution_count": 187,
   "metadata": {},
   "outputs": [],
   "source": [
    "class MyDataset(Dataset):\n",
    "    def __init__(self, X, y):\n",
    "        self.X = torch.tensor(X, dtype=torch.float32)  \n",
    "        self.y = torch.tensor(y, dtype=torch.float32) \n",
    "\n",
    "    def __len__(self):\n",
    "        return len(self.X)\n",
    "\n",
    "    def __getitem__(self, idx):\n",
    "        return self.X[idx], self.y[idx]"
   ]
  },
  {
   "cell_type": "markdown",
   "metadata": {},
   "source": [
    "We will use cross-validation to get representative validation metrics set.\n",
    "\n",
    "After several manual trials I've found optimal learning rate and number of epochs to achieve high metrics and not overfit.\n",
    "\n",
    "If the task was more complicated, I would choose a logger to track metrics and search for hyperparameters."
   ]
  },
  {
   "cell_type": "code",
   "execution_count": 201,
   "metadata": {},
   "outputs": [
    {
     "name": "stderr",
     "output_type": "stream",
     "text": [
      "GPU available: False, used: False\n",
      "TPU available: False, using: 0 TPU cores\n",
      "HPU available: False, using: 0 HPUs\n",
      "\n",
      "  | Name | Type             | Params | Mode \n",
      "--------------------------------------------------\n",
      "0 | fc1  | Linear           | 7.3 K  | train\n",
      "1 | fc2  | Linear           | 61     | train\n",
      "2 | mse  | MeanSquaredError | 0      | train\n",
      "3 | r2   | R2Score          | 0      | train\n",
      "--------------------------------------------------\n",
      "7.3 K     Trainable params\n",
      "0         Non-trainable params\n",
      "7.3 K     Total params\n",
      "0.029     Total estimated model params size (MB)\n"
     ]
    },
    {
     "name": "stdout",
     "output_type": "stream",
     "text": [
      "------------------\n",
      "FOLD # 1\n",
      "------------------\n",
      "Epoch 25: 100%|██████████| 60/60 [00:00<00:00, 163.96it/s, train_mse=0.0476, train_r2=0.974, val_mse=0.0437, val_r2=0.969]"
     ]
    },
    {
     "name": "stderr",
     "output_type": "stream",
     "text": [
      "`Trainer.fit` stopped: `max_epochs=26` reached.\n"
     ]
    },
    {
     "name": "stdout",
     "output_type": "stream",
     "text": [
      "Epoch 25: 100%|██████████| 60/60 [00:00<00:00, 156.72it/s, train_mse=0.0476, train_r2=0.974, val_mse=0.0437, val_r2=0.969]"
     ]
    },
    {
     "name": "stderr",
     "output_type": "stream",
     "text": [
      "GPU available: False, used: False\n"
     ]
    },
    {
     "name": "stdout",
     "output_type": "stream",
     "text": [
      "\n",
      "------------------\n",
      "FOLD # 2\n",
      "------------------\n"
     ]
    },
    {
     "name": "stderr",
     "output_type": "stream",
     "text": [
      "TPU available: False, using: 0 TPU cores\n",
      "HPU available: False, using: 0 HPUs\n",
      "\n",
      "  | Name | Type             | Params | Mode \n",
      "--------------------------------------------------\n",
      "0 | fc1  | Linear           | 7.3 K  | train\n",
      "1 | fc2  | Linear           | 61     | train\n",
      "2 | mse  | MeanSquaredError | 0      | train\n",
      "3 | r2   | R2Score          | 0      | train\n",
      "--------------------------------------------------\n",
      "7.3 K     Trainable params\n",
      "0         Non-trainable params\n",
      "7.3 K     Total params\n",
      "0.029     Total estimated model params size (MB)\n"
     ]
    },
    {
     "name": "stdout",
     "output_type": "stream",
     "text": [
      "Epoch 25: 100%|██████████| 60/60 [00:00<00:00, 180.87it/s, train_mse=0.0239, train_r2=0.984, val_mse=0.0499, val_r2=0.962]"
     ]
    },
    {
     "name": "stderr",
     "output_type": "stream",
     "text": [
      "`Trainer.fit` stopped: `max_epochs=26` reached.\n"
     ]
    },
    {
     "name": "stdout",
     "output_type": "stream",
     "text": [
      "Epoch 25: 100%|██████████| 60/60 [00:00<00:00, 180.87it/s, train_mse=0.0239, train_r2=0.984, val_mse=0.0499, val_r2=0.962]\n",
      "------------------\n",
      "FOLD # 3\n",
      "------------------\n"
     ]
    },
    {
     "name": "stderr",
     "output_type": "stream",
     "text": [
      "GPU available: False, used: False\n",
      "TPU available: False, using: 0 TPU cores\n",
      "HPU available: False, using: 0 HPUs\n",
      "\n",
      "  | Name | Type             | Params | Mode \n",
      "--------------------------------------------------\n",
      "0 | fc1  | Linear           | 7.3 K  | train\n",
      "1 | fc2  | Linear           | 61     | train\n",
      "2 | mse  | MeanSquaredError | 0      | train\n",
      "3 | r2   | R2Score          | 0      | train\n",
      "--------------------------------------------------\n",
      "7.3 K     Trainable params\n",
      "0         Non-trainable params\n",
      "7.3 K     Total params\n",
      "0.029     Total estimated model params size (MB)\n"
     ]
    },
    {
     "name": "stdout",
     "output_type": "stream",
     "text": [
      "Epoch 25: 100%|██████████| 60/60 [00:00<00:00, 147.76it/s, train_mse=0.0616, train_r2=0.951, val_mse=0.047, val_r2=0.965] "
     ]
    },
    {
     "name": "stderr",
     "output_type": "stream",
     "text": [
      "`Trainer.fit` stopped: `max_epochs=26` reached.\n"
     ]
    },
    {
     "name": "stdout",
     "output_type": "stream",
     "text": [
      "Epoch 25: 100%|██████████| 60/60 [00:00<00:00, 147.76it/s, train_mse=0.0616, train_r2=0.951, val_mse=0.047, val_r2=0.965]"
     ]
    },
    {
     "name": "stderr",
     "output_type": "stream",
     "text": [
      "GPU available: False, used: False\n"
     ]
    },
    {
     "name": "stdout",
     "output_type": "stream",
     "text": [
      "\n",
      "------------------\n",
      "FOLD # 4\n",
      "------------------\n"
     ]
    },
    {
     "name": "stderr",
     "output_type": "stream",
     "text": [
      "TPU available: False, using: 0 TPU cores\n",
      "HPU available: False, using: 0 HPUs\n",
      "\n",
      "  | Name | Type             | Params | Mode \n",
      "--------------------------------------------------\n",
      "0 | fc1  | Linear           | 7.3 K  | train\n",
      "1 | fc2  | Linear           | 61     | train\n",
      "2 | mse  | MeanSquaredError | 0      | train\n",
      "3 | r2   | R2Score          | 0      | train\n",
      "--------------------------------------------------\n",
      "7.3 K     Trainable params\n",
      "0         Non-trainable params\n",
      "7.3 K     Total params\n",
      "0.029     Total estimated model params size (MB)\n"
     ]
    },
    {
     "name": "stdout",
     "output_type": "stream",
     "text": [
      "Epoch 25: 100%|██████████| 60/60 [00:00<00:00, 118.64it/s, train_mse=0.0293, train_r2=0.976, val_mse=0.0419, val_r2=0.966]"
     ]
    },
    {
     "name": "stderr",
     "output_type": "stream",
     "text": [
      "`Trainer.fit` stopped: `max_epochs=26` reached.\n"
     ]
    },
    {
     "name": "stdout",
     "output_type": "stream",
     "text": [
      "Epoch 25: 100%|██████████| 60/60 [00:00<00:00, 116.23it/s, train_mse=0.0293, train_r2=0.976, val_mse=0.0419, val_r2=0.966]\n",
      "------------------\n",
      "FOLD # 5\n",
      "------------------\n"
     ]
    },
    {
     "name": "stderr",
     "output_type": "stream",
     "text": [
      "GPU available: False, used: False\n",
      "TPU available: False, using: 0 TPU cores\n",
      "HPU available: False, using: 0 HPUs\n",
      "\n",
      "  | Name | Type             | Params | Mode \n",
      "--------------------------------------------------\n",
      "0 | fc1  | Linear           | 7.3 K  | train\n",
      "1 | fc2  | Linear           | 61     | train\n",
      "2 | mse  | MeanSquaredError | 0      | train\n",
      "3 | r2   | R2Score          | 0      | train\n",
      "--------------------------------------------------\n",
      "7.3 K     Trainable params\n",
      "0         Non-trainable params\n",
      "7.3 K     Total params\n",
      "0.029     Total estimated model params size (MB)\n"
     ]
    },
    {
     "name": "stdout",
     "output_type": "stream",
     "text": [
      "Epoch 25: 100%|██████████| 60/60 [00:00<00:00, 112.97it/s, train_mse=0.0273, train_r2=0.992, val_mse=0.049, val_r2=0.960] "
     ]
    },
    {
     "name": "stderr",
     "output_type": "stream",
     "text": [
      "`Trainer.fit` stopped: `max_epochs=26` reached.\n"
     ]
    },
    {
     "name": "stdout",
     "output_type": "stream",
     "text": [
      "Epoch 25: 100%|██████████| 60/60 [00:00<00:00, 112.97it/s, train_mse=0.0273, train_r2=0.992, val_mse=0.049, val_r2=0.960]\n",
      "Average validation MSE: 0.03857769320408503\n",
      "Average validation R2: 0.8036013146241506\n"
     ]
    }
   ],
   "source": [
    "class CrossValidation:\n",
    "    def __init__(self, model_class, dataset, n_splits, batch_size, learning_rate, max_epochs):\n",
    "        self.model_class = model_class\n",
    "        self.dataset = dataset\n",
    "        self.n_splits = n_splits\n",
    "        self.batch_size = batch_size\n",
    "        self.learning_rate = learning_rate\n",
    "        self.max_epochs = max_epochs\n",
    "\n",
    "    def run_cv(self):\n",
    "        kf = KFold(n_splits=self.n_splits, shuffle=True, random_state=0)\n",
    "        fold_results = {'val_mse': [], 'val_r2': []}\n",
    "        fold_num = 1\n",
    "\n",
    "        for train_idx, val_idx in kf.split(self.dataset):\n",
    "            print('------------------')\n",
    "            print(f\"FOLD # {fold_num}\")\n",
    "            print('------------------')\n",
    "            fold_num += 1\n",
    "\n",
    "            train_subset = torch.utils.data.Subset(self.dataset, train_idx)\n",
    "            val_subset = torch.utils.data.Subset(self.dataset, val_idx)\n",
    "            train_loader = DataLoader(train_subset, batch_size=self.batch_size, shuffle=True)\n",
    "            val_loader = DataLoader(val_subset, batch_size=self.batch_size, shuffle=False)\n",
    "\n",
    "            model = self.model_class(learning_rate=self.learning_rate)\n",
    "\n",
    "            trainer = pl.Trainer(max_epochs=self.max_epochs, logger=False)\n",
    "            trainer.fit(model, train_loader, val_loader)\n",
    "            fold_results['val_mse'].append(model.trainer.callback_metrics['val_mse'].item())\n",
    "            fold_results['val_r2'].append(model.trainer.callback_metrics['val_r2'].item())\n",
    "            \n",
    "        self.model = model\n",
    "        avg_val_mse = sum(fold_results['val_mse']) / fold_num\n",
    "        avg_val_r2 = sum(fold_results['val_r2']) / fold_num\n",
    "        print(f\"Average validation MSE: {avg_val_mse}\")\n",
    "        print(f\"Average validation R2: {avg_val_r2}\")\n",
    "\n",
    "\n",
    "dataset = MyDataset(X_train_scaled.values, y_train_log)\n",
    "cv = CrossValidation(TwoLayerNN, dataset, n_splits=5, batch_size=32, learning_rate=1e-4, max_epochs=26)\n",
    "cv.run_cv()"
   ]
  },
  {
   "cell_type": "markdown",
   "metadata": {},
   "source": [
    "Average validation R2 is > 0.8, so let's try it on test data"
   ]
  },
  {
   "cell_type": "code",
   "execution_count": 203,
   "metadata": {},
   "outputs": [
    {
     "name": "stdout",
     "output_type": "stream",
     "text": [
      "MSE and R2 on test: 0.4920413939008796 0.9421337275365755\n",
      "MSE and R2 on train: 0.44325489943238405 0.9574237047679383\n"
     ]
    }
   ],
   "source": [
    "my_model = cv.model\n",
    "my_model.eval()\n",
    "# if you want to load the model:\n",
    "# my_model = torch.load('models/TwoLayerNN.pth')\n",
    "with torch.no_grad():  \n",
    "    predictions = my_model(torch.tensor(X_test_scaled.values, dtype=torch.float32))\n",
    "    predictions_train = my_model(torch.tensor(X_train_scaled.values, dtype=torch.float32))\n",
    "\n",
    "print(\"MSE and R2 on test:\", mean_squared_error(y_test, np.exp(predictions.view(-1))), r2_score(y_test, np.exp(predictions.view(-1))))\n",
    "print(\"MSE and R2 on train:\", mean_squared_error(y_train, np.exp(predictions_train.view(-1))), r2_score(y_train, np.exp(predictions_train.view(-1))))"
   ]
  },
  {
   "cell_type": "markdown",
   "metadata": {},
   "source": [
    "Nearly no overfitting, R2 is 0.94 on test."
   ]
  },
  {
   "cell_type": "code",
   "execution_count": null,
   "metadata": {},
   "outputs": [],
   "source": [
    "torch.save(cv.model, 'models/TwoLayerNN.pth')"
   ]
  }
 ],
 "metadata": {
  "kernelspec": {
   "display_name": "ML",
   "language": "python",
   "name": "ml"
  },
  "language_info": {
   "codemirror_mode": {
    "name": "ipython",
    "version": 3
   },
   "file_extension": ".py",
   "mimetype": "text/x-python",
   "name": "python",
   "nbconvert_exporter": "python",
   "pygments_lexer": "ipython3",
   "version": "3.11.9"
  }
 },
 "nbformat": 4,
 "nbformat_minor": 2
}
